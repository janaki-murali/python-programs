{
 "cells": [
  {
   "cell_type": "markdown",
   "metadata": {},
   "source": [
    "Numpy - Examples of array creation"
   ]
  },
  {
   "cell_type": "code",
   "execution_count": null,
   "metadata": {},
   "outputs": [],
   "source": [
    "import numpy as np\n",
    "a = np.array([1,2,3,4])\n",
    "print(a)"
   ]
  },
  {
   "cell_type": "code",
   "execution_count": null,
   "metadata": {},
   "outputs": [],
   "source": [
    "b = np.array([(1,2,3),(4,5,6)],dtype=float)\n",
    "print(b)"
   ]
  },
  {
   "cell_type": "code",
   "execution_count": null,
   "metadata": {},
   "outputs": [],
   "source": [
    "c = np.array([(1,2,3),(4,5,6),(7,8,9)])\n",
    "print(c)"
   ]
  },
  {
   "cell_type": "markdown",
   "metadata": {},
   "source": [
    "Properties Example:"
   ]
  },
  {
   "cell_type": "code",
   "execution_count": null,
   "metadata": {},
   "outputs": [],
   "source": [
    "import numpy as np\n",
    "a = np.array([[[1,2,3],[4,3,5]],[[3,6,7],[2,1,0]]])\n",
    "print(\"The dimensions of array a is:\", a.ndim)\n",
    "print(\"The shape of the array a is: \", a.shape)\n",
    "print(\"The total no: of elements in array a is: \", a.size)\n",
    "print(\"The datatype of elements in array a is: \", a.dtype)\n",
    "print(\"The size of each element in array a is: \", a.itemsize)"
   ]
  },
  {
   "cell_type": "markdown",
   "metadata": {},
   "source": [
    "Indexing and Slicing - Examples"
   ]
  },
  {
   "cell_type": "code",
   "execution_count": null,
   "metadata": {},
   "outputs": [],
   "source": [
    "import numpy as np\n",
    "A=np.arange(10)\n",
    "print(A)"
   ]
  },
  {
   "cell_type": "code",
   "execution_count": null,
   "metadata": {},
   "outputs": [],
   "source": [
    "print(A[0])"
   ]
  },
  {
   "cell_type": "code",
   "execution_count": null,
   "metadata": {},
   "outputs": [],
   "source": [
    "print(A[-1])"
   ]
  },
  {
   "cell_type": "code",
   "execution_count": null,
   "metadata": {},
   "outputs": [],
   "source": [
    "print(A[0:3])"
   ]
  },
  {
   "cell_type": "code",
   "execution_count": null,
   "metadata": {},
   "outputs": [],
   "source": [
    "A[0:3]=100\n",
    "A[3]=200\n",
    "print(A)"
   ]
  },
  {
   "cell_type": "code",
   "execution_count": null,
   "metadata": {},
   "outputs": [],
   "source": [
    "slice=A[5:9]\n",
    "print(slice)"
   ]
  },
  {
   "cell_type": "code",
   "execution_count": null,
   "metadata": {},
   "outputs": [],
   "source": [
    "slice[:]=200\n",
    "print(A)"
   ]
  },
  {
   "cell_type": "code",
   "execution_count": null,
   "metadata": {},
   "outputs": [],
   "source": [
    "import numpy as np\n",
    "a = np.array([1,2,3,4,5])\n",
    "b = a+1\n",
    "print(b)\n",
    "c = 2**a\n",
    "print(c)"
   ]
  },
  {
   "cell_type": "markdown",
   "metadata": {},
   "source": [
    "Addition"
   ]
  },
  {
   "cell_type": "code",
   "execution_count": null,
   "metadata": {},
   "outputs": [],
   "source": [
    "import numpy as np\n",
    "A = np.array([[2, 4], [5, -6]])\n",
    "B = np.array([[9, -3], [3, 6]])\n",
    "C = A + B # element wise addition\n",
    "print(C)"
   ]
  },
  {
   "cell_type": "markdown",
   "metadata": {},
   "source": [
    "Subtraction"
   ]
  },
  {
   "cell_type": "code",
   "execution_count": null,
   "metadata": {},
   "outputs": [],
   "source": [
    "import numpy as np\n",
    "A = np.array([[2, 4], [5, -6]])\n",
    "B = np.array([[9, -3], [3, 6]])\n",
    "C = A - B # element wise subtraction\n",
    "print(C)"
   ]
  },
  {
   "cell_type": "markdown",
   "metadata": {},
   "source": [
    "Multiplication (Element-wise matrix multiplication or the Hadamard product)"
   ]
  },
  {
   "cell_type": "code",
   "execution_count": null,
   "metadata": {},
   "outputs": [],
   "source": [
    "import numpy as np\n",
    "A = np.array([[2, 4], [5, -6]])\n",
    "print(A*A)"
   ]
  },
  {
   "cell_type": "markdown",
   "metadata": {},
   "source": [
    "Scalar Product"
   ]
  },
  {
   "cell_type": "code",
   "execution_count": null,
   "metadata": {},
   "outputs": [],
   "source": [
    "import numpy as np\n",
    "A = np.array([[1, 2], [3, 4]])\n",
    "print(A*2)"
   ]
  },
  {
   "cell_type": "markdown",
   "metadata": {},
   "source": [
    "Transpose"
   ]
  },
  {
   "cell_type": "code",
   "execution_count": null,
   "metadata": {},
   "outputs": [],
   "source": [
    "import numpy as np\n",
    "A = np.array([[2, 4], [5, -6],[6,7]])\n",
    "print(A)\n",
    "print('Transpose is:') \n",
    "print(A.transpose()) \n",
    "print('Also you can use A.T')\n",
    "print(A.T)\n"
   ]
  },
  {
   "cell_type": "markdown",
   "metadata": {},
   "source": [
    "Inverse of a square matrix"
   ]
  },
  {
   "cell_type": "code",
   "execution_count": null,
   "metadata": {},
   "outputs": [],
   "source": [
    "from numpy import array\n",
    "from numpy.linalg import inv\n",
    "# define matrix\n",
    "A = array([[2,7],[2,8]])\n",
    "print(A)\n",
    "B = inv(A) # invert matrix\n",
    "print(B)\n",
    "I = A.dot(B) # multiply A and B\n",
    "print(I)"
   ]
  },
  {
   "cell_type": "markdown",
   "metadata": {},
   "source": [
    "Trace"
   ]
  },
  {
   "cell_type": "code",
   "execution_count": null,
   "metadata": {},
   "outputs": [],
   "source": [
    "from numpy import array\n",
    "from numpy import trace\n",
    "# define matrix\n",
    "A = array([[1, 2, 3],[4, 5, 6],[7, 8, 9]])\n",
    "print(A)\n",
    "# calculate trace\n",
    "B = trace(A)\n",
    "print(B)\n"
   ]
  },
  {
   "cell_type": "markdown",
   "metadata": {},
   "source": [
    "Determinant"
   ]
  },
  {
   "cell_type": "code",
   "execution_count": null,
   "metadata": {},
   "outputs": [],
   "source": [
    "from numpy import array\n",
    "from numpy.linalg import det\n",
    "# define matrix\n",
    "A = array([[1, 2, 3],[4, 5, 6],[7, 8, 9]])\n",
    "print(A)\n",
    "# calculate determinant\n",
    "B = det(A)\n",
    "print(B)"
   ]
  },
  {
   "cell_type": "markdown",
   "metadata": {},
   "source": [
    "Matrix Multiplication"
   ]
  },
  {
   "cell_type": "code",
   "execution_count": null,
   "metadata": {},
   "outputs": [],
   "source": [
    "from numpy import array\n",
    "# define first matrix\n",
    "A = array([[1, 2],[3, 4],[5, 6]])\n",
    "print(A)\n",
    "# define second matrix\n",
    "B = array([[1, 2],[3, 4]])\n",
    "print(B)\n",
    "# multiply matrices\n",
    "C = A.dot(B)\n",
    "print(C)"
   ]
  },
  {
   "cell_type": "markdown",
   "metadata": {},
   "source": [
    "Random Numbers"
   ]
  },
  {
   "cell_type": "code",
   "execution_count": null,
   "metadata": {},
   "outputs": [],
   "source": [
    "#import numpy as np\n",
    "#x = np.random.randint(100)\n",
    "from numpy.random import randint\n",
    "x = randint(100)\n",
    "print(x)"
   ]
  },
  {
   "cell_type": "markdown",
   "metadata": {},
   "source": [
    "The randint() method takes a size parameter where you can specify the shape of an array."
   ]
  },
  {
   "cell_type": "code",
   "execution_count": null,
   "metadata": {},
   "outputs": [],
   "source": [
    "import numpy as np\n",
    "x = np.random.randint(100,size=5)\n",
    "print(x)"
   ]
  },
  {
   "cell_type": "markdown",
   "metadata": {},
   "source": [
    "The following will Generate a 2-D array with 3 rows, each row containing 5 random integers (0 to 100:)"
   ]
  },
  {
   "cell_type": "code",
   "execution_count": null,
   "metadata": {},
   "outputs": [],
   "source": [
    "import numpy as np\n",
    "x = np.random.randint(100,size=(3,5))\n",
    "print(x)"
   ]
  },
  {
   "cell_type": "markdown",
   "metadata": {},
   "source": [
    "rand() function"
   ]
  },
  {
   "cell_type": "code",
   "execution_count": null,
   "metadata": {},
   "outputs": [],
   "source": [
    "import numpy as np\n",
    "x = np.random.rand()\n",
    "print(x)\n",
    "x = np.random.rand(3,5)\n",
    "print(x)"
   ]
  },
  {
   "cell_type": "markdown",
   "metadata": {},
   "source": [
    "Choice Method"
   ]
  },
  {
   "cell_type": "code",
   "execution_count": null,
   "metadata": {},
   "outputs": [],
   "source": [
    "import numpy as np\n",
    "x = np.random.choice([3,5,6,7,9,2,1])\n",
    "print(x)"
   ]
  },
  {
   "cell_type": "code",
   "execution_count": null,
   "metadata": {},
   "outputs": [],
   "source": [
    "import numpy as np\n",
    "x = np.random.choice([3,5,6,7,9,2],size=(2,5))\n",
    "print(x)"
   ]
  },
  {
   "cell_type": "markdown",
   "metadata": {},
   "source": [
    "Shuffle means changing arrangement\n",
    "of elements in-place. \n",
    "i.e. in the array itself."
   ]
  },
  {
   "cell_type": "code",
   "execution_count": null,
   "metadata": {},
   "outputs": [],
   "source": [
    "import numpy as np\n",
    "x=np.array([1,2,3,4,5])\n",
    "np.random.shuffle(x)\n",
    "print(x)"
   ]
  },
  {
   "cell_type": "markdown",
   "metadata": {},
   "source": [
    "The permutation() method returns\n",
    " a re-arranged array (and leaves \n",
    " the original array un-changed)."
   ]
  },
  {
   "cell_type": "code",
   "execution_count": null,
   "metadata": {},
   "outputs": [],
   "source": [
    "import numpy as np\n",
    "x=np.array([1,2,3,4,5])\n",
    "y=np.random.permutation(x)\n",
    "print(y)\n",
    "print(x)"
   ]
  },
  {
   "cell_type": "markdown",
   "metadata": {},
   "source": [
    "Sine Wave"
   ]
  },
  {
   "cell_type": "code",
   "execution_count": null,
   "metadata": {},
   "outputs": [],
   "source": [
    "from matplotlib import pyplot as plt\n",
    "import numpy as np\n",
    "#import math #needed for definition of pi\n",
    "#The x axis shall range from 0 to 2 pi\n",
    "x = np.arange(0, np.pi*2, 0.05)\n",
    "y = np.sin(x)\n",
    "#print(x)\n",
    "#print(y)\n",
    "plt.plot(x,y)\n",
    "plt.xlabel(\"angle\")\n",
    "plt.ylabel(\"sine\")\n",
    "plt.title('sine wave')\n",
    "plt.show()"
   ]
  },
  {
   "cell_type": "markdown",
   "metadata": {},
   "source": [
    "Pylab"
   ]
  },
  {
   "cell_type": "code",
   "execution_count": null,
   "metadata": {},
   "outputs": [],
   "source": [
    "from pylab import *\n",
    "x = np.arange(0, np.pi*2, 0.05)\n",
    "plot(x, sin(x))\n",
    "plot(x, cos(x) )\n",
    "plot(x, -sin(x))\n",
    "show()"
   ]
  },
  {
   "cell_type": "markdown",
   "metadata": {},
   "source": [
    "Grids and Legends"
   ]
  },
  {
   "cell_type": "code",
   "execution_count": null,
   "metadata": {},
   "outputs": [],
   "source": [
    "from pylab import *\n",
    "x = np.arange(0, np.pi*2, 0.05)\n",
    "plot(x, sin(x),label='sin')\n",
    "plot(x, cos(x), 'r-',label='cos')\n",
    "plot(x, -sin(x), 'g--',label='-sin')\n",
    "grid(True)\n",
    "title('waves')\n",
    "xlabel('x')\n",
    "ylabel('sin cos -sin')\n",
    "legend(loc='lower right')\n",
    "show()"
   ]
  },
  {
   "cell_type": "markdown",
   "metadata": {},
   "source": [
    "bar plot"
   ]
  },
  {
   "cell_type": "code",
   "execution_count": null,
   "metadata": {},
   "outputs": [],
   "source": [
    "from matplotlib import pyplot as plt\n",
    "x = [5, 2, 9, 4, 7]\n",
    "y = [10, 5, 8, 4, 2]\n",
    "# Function to plot the bar\n",
    "plt.bar(x,y)\n",
    "# function to show the plot\n",
    "plt.show()"
   ]
  },
  {
   "cell_type": "markdown",
   "metadata": {},
   "source": [
    "Histogram"
   ]
  },
  {
   "cell_type": "code",
   "execution_count": null,
   "metadata": {},
   "outputs": [],
   "source": [
    "from matplotlib import pyplot as plt\n",
    "# x-axis values\n",
    "x = [5, 2, 9, 4, 7,5,5,5,4,9,9,9,9,9,9,9,9,9]\n",
    "# Function to plot the histogram\n",
    "plt.hist(x)\n",
    "# function to show the plot\n",
    "plt.show()"
   ]
  },
  {
   "cell_type": "markdown",
   "metadata": {},
   "source": [
    "scatter plot"
   ]
  },
  {
   "cell_type": "code",
   "execution_count": null,
   "metadata": {},
   "outputs": [],
   "source": [
    "from matplotlib import pyplot as plt\n",
    "x = [5, 2, 9, 4, 7]\n",
    "y = [10, 5, 8, 4, 2]\n",
    "# Function to plot scatter\n",
    "plt.scatter(x, y)\n",
    "plt.grid(True)\n",
    "plt.show()"
   ]
  },
  {
   "cell_type": "markdown",
   "metadata": {},
   "source": [
    "Stem plot"
   ]
  },
  {
   "cell_type": "code",
   "execution_count": null,
   "metadata": {},
   "outputs": [],
   "source": [
    "from matplotlib import pyplot as plt\n",
    "x = [5, 2, 9, 4, 7]\n",
    "y = [10, 5, 8, 4, 2]\n",
    "# Function to plot scatter\n",
    "plt.stem(x, y)\n",
    "plt.show()"
   ]
  },
  {
   "cell_type": "markdown",
   "metadata": {},
   "source": [
    "Pie Plot"
   ]
  },
  {
   "cell_type": "code",
   "execution_count": null,
   "metadata": {},
   "outputs": [],
   "source": [
    "data=[20,30,60,40]\n",
    "from pylab import *\n",
    "pie(data)\n",
    "show()"
   ]
  },
  {
   "cell_type": "markdown",
   "metadata": {},
   "source": [
    "Sub plots"
   ]
  },
  {
   "cell_type": "code",
   "execution_count": null,
   "metadata": {},
   "outputs": [],
   "source": [
    "from pylab import *\n",
    "x = arange(0, pi*2, 0.05)\n",
    "subplot(2,2,1)\n",
    "plot(x, sin(x),label='sin')\n",
    "xlabel('x')\n",
    "ylabel('sin')\n",
    "legend(loc='upper right')\n",
    "grid(True)\n",
    "subplot(2,2,2)\n",
    "plot(x, cos(x), 'r-',label='cos')\n",
    "xlabel('x')\n",
    "ylabel('cos')\n",
    "legend(loc='upper right')\n",
    "grid(True)\n",
    "subplot(2,2,3)\n",
    "xlabel('x')\n",
    "ylabel('-sin')\n",
    "plot(x, -sin(x), 'g--',label='-sin')\n",
    "legend(loc='upper right')\n",
    "grid(True)\n",
    "subplot(2,2,4)\n",
    "xlabel('x')\n",
    "ylabel('tan')\n",
    "plot(x, tan(x), 'y-',label='tan')\n",
    "legend(loc='upper right')\n",
    "grid(True)\n",
    "show()"
   ]
  },
  {
   "cell_type": "markdown",
   "metadata": {},
   "source": [
    "Subplot using matplotlib"
   ]
  },
  {
   "cell_type": "code",
   "execution_count": null,
   "metadata": {},
   "outputs": [],
   "source": [
    "from matplotlib import pyplot as plt\n",
    "import numpy as np\n",
    "x = np.arange(0,2*np.pi,0.05)\n",
    "plt.subplot(2,2,1)\n",
    "plt.plot(x, np.sin(x),label='sin')\n",
    "plt.xlabel('x')\n",
    "plt.ylabel('sin')\n",
    "plt.legend(loc='upper right')\n",
    "plt.grid(True)\n",
    "plt.subplot(2,2,2)\n",
    "plt.plot(x, np.cos(x),'r',label='cos')\n",
    "plt.xlabel('x')\n",
    "plt.ylabel('cos')\n",
    "plt.legend(loc='upper right')\n",
    "plt.grid(True)\n",
    "plt.subplot(2,2,3)\n",
    "plt.plot(x, np.tan(x),'m',label='tan')\n",
    "plt.xlabel('x')\n",
    "plt.ylabel('tan')\n",
    "plt.legend(loc='upper right')\n",
    "plt.grid(True)\n",
    "plt.subplot(2,2,4)\n",
    "plt.plot(x, np.tanh(x),'c',label='tanh')\n",
    "plt.xlabel('x')\n",
    "plt.ylabel('tanh')\n",
    "plt.legend(loc='upper right')\n",
    "plt.grid(True)"
   ]
  },
  {
   "cell_type": "markdown",
   "metadata": {},
   "source": [
    "Ticks"
   ]
  },
  {
   "cell_type": "code",
   "execution_count": null,
   "metadata": {},
   "outputs": [],
   "source": [
    "import matplotlib.pyplot as plt\n",
    "import numpy as np\n",
    "# values of x and y axes\n",
    "x = [5, 10, 15, 20, 25, 30, 35, 40, 45, 50]\n",
    "y = [1, 4, 3, 2, 7, 6, 9, 8, 10, 5]\n",
    "plt.figure(1)\n",
    "plt.plot(x, y, 'b')\n",
    "plt.xlabel('x')\n",
    "plt.ylabel('y')\n",
    "plt.figure(2)\n",
    "plt.plot(x, y, 'r')\n",
    "plt.xlabel('x')\n",
    "plt.ylabel('y')\n",
    "# 0 is the initial value, 51 is the final value\n",
    "# (last value is not taken) and 5 is the difference\n",
    "# of values between two consecutive ticks\n",
    "plt.xticks(np.arange(0, 51, 5))\n",
    "plt.yticks(np.arange(0, 11, 1))\n",
    "plt.tick_params(axis='y',colors='red',rotation=45)\n",
    "plt.show()"
   ]
  },
  {
   "cell_type": "markdown",
   "metadata": {},
   "source": [
    "Pandas Series"
   ]
  },
  {
   "cell_type": "code",
   "execution_count": null,
   "metadata": {},
   "outputs": [],
   "source": [
    "import pandas as pd\n",
    "obj=pd.Series([3,5,-8,7,9])\n",
    "print(obj)"
   ]
  },
  {
   "cell_type": "code",
   "execution_count": null,
   "metadata": {},
   "outputs": [],
   "source": [
    "import pandas as pd\n",
    "obj2 = pd.Series([4, 7, -5, 3], index=['d', 'b', 'a', 'c'])\n",
    "print(obj2)"
   ]
  },
  {
   "cell_type": "code",
   "execution_count": null,
   "metadata": {},
   "outputs": [],
   "source": [
    "import pandas as pd\n",
    "sdata = {'Ohio': 35000, 'Texas': 71000, 'Oregon': 16000, 'Utah': 5000}\n",
    "obj3=pd.Series(sdata)\n",
    "print(obj3)\n"
   ]
  },
  {
   "cell_type": "markdown",
   "metadata": {},
   "source": [
    "Basic series functionality"
   ]
  },
  {
   "cell_type": "code",
   "execution_count": null,
   "metadata": {},
   "outputs": [],
   "source": [
    "# Import Pandas\n",
    "import pandas as pd\n",
    "# Create a series\n",
    "s = pd.Series([1,2,3,4,5], index = ['a','b','c','d','e'])\n",
    "# Show the axes\n",
    "print('Axes: ',s.axes)\n",
    "# Show the data type\n",
    "print('Data type: ',s.dtype)\n",
    "# Check if the series is empty\n",
    "print('Is Empty? ',s.empty)\n",
    "# Show the number of dimensions\n",
    "print('No. of dimensions: ',s.ndim)\n",
    "# Show the size\n",
    "print('Size: ',s.size)\n",
    "# Show the values\n",
    "print('Values: ',s.values)\n",
    "# Show the first 3 rows\n",
    "print('First 3 rows:\\n',s.head(3))\n",
    "# Show the last 2 rows\n",
    "print('Last 2 rows:\\n',s.tail(2))"
   ]
  },
  {
   "cell_type": "markdown",
   "metadata": {},
   "source": [
    "Data Frame Creation"
   ]
  },
  {
   "cell_type": "code",
   "execution_count": null,
   "metadata": {},
   "outputs": [],
   "source": [
    "import pandas as pd\n",
    "# initialise data of lists.\n",
    "data = {'Name':['Tom', 'nick', 'krish', 'jack'], 'Age':[20, 21, 19, 18]}\n",
    "# Create DataFrame ,index=([10,20,30,40])\n",
    "df = pd.DataFrame(data)\n",
    "# Print the output.\n",
    "print(df)"
   ]
  },
  {
   "cell_type": "markdown",
   "metadata": {},
   "source": [
    "Pandas rows and columns selection"
   ]
  },
  {
   "cell_type": "code",
   "execution_count": null,
   "metadata": {},
   "outputs": [],
   "source": [
    "import pandas as pd\n",
    "# Define a dictionary containing employee data\n",
    "data = {'Name':['Jai', 'Princi', 'Gaurav', 'Anuj'],\n",
    "'Age':[27, 24, 22, 32],\n",
    "'Address':['Delhi', 'Kanpur', 'Allahabad', 'Kannauj'],\n",
    "'Qualification':['Msc', 'MA', 'MCA', 'Phd']}\n",
    "# Convert the dictionary into DataFrame\n",
    "df = pd.DataFrame(data)\n",
    "# select two columns\n",
    "print(df)\n",
    "#print(df[['Name', 'Qualification']])\n",
    "print(df[['Name','Address']])\n",
    "\n"
   ]
  },
  {
   "cell_type": "markdown",
   "metadata": {},
   "source": [
    "Row Selection"
   ]
  },
  {
   "cell_type": "code",
   "execution_count": null,
   "metadata": {},
   "outputs": [],
   "source": [
    "import pandas as pd\n",
    "data = [[50, True], [40, False], [30, False]]\n",
    "label_rows = [\"Sally\", \"Mary\", \"John\"]\n",
    "label_cols = [\"age\", \"qualified\"]\n",
    "df = pd.DataFrame(data, label_rows, label_cols)\n",
    "print(df,\"\\n\")\n",
    "print('Using .loc\\n',df.loc[\"Mary\"])\n",
    "print('Using .iloc\\n',df.iloc[0])"
   ]
  },
  {
   "cell_type": "markdown",
   "metadata": {},
   "source": [
    "Indexing and selecting"
   ]
  },
  {
   "cell_type": "code",
   "execution_count": null,
   "metadata": {},
   "outputs": [],
   "source": [
    "import pandas as pd\n",
    "import numpy as np\n",
    "df = pd.DataFrame(np.random.randn(8, 4),\n",
    "index = ['a','b','c','d','e','f','g','h'], columns = ['A', 'B', 'C', 'D'])\n",
    "# Select few rows for multiple columns, say list[]\n",
    "print(df)\n",
    "#print(df.loc[['a','b','f','h'],['A','C']])\n",
    "print(df.loc[['a','d','h'],['A','D']])"
   ]
  },
  {
   "cell_type": "markdown",
   "metadata": {},
   "source": [
    "Missing Data"
   ]
  },
  {
   "cell_type": "code",
   "execution_count": null,
   "metadata": {},
   "outputs": [],
   "source": [
    "import pandas as pd\n",
    "import numpy as np\n",
    "dict = {'First Score':[100, 90, np.nan, 95],\n",
    "'Second Score': [30, 45, 56, np.nan],\n",
    "'Third Score':[np.nan, 40, 80, 98]}\n",
    "df = pd.DataFrame(dict)\n",
    "print(df.isnull())\n",
    "print(df.notnull())"
   ]
  },
  {
   "cell_type": "markdown",
   "metadata": {},
   "source": [
    "Filling the missing values"
   ]
  },
  {
   "cell_type": "code",
   "execution_count": null,
   "metadata": {},
   "outputs": [],
   "source": [
    "import pandas as pd\n",
    "import numpy as np\n",
    "# dictionary of lists\n",
    "dict = {'First Score':[100, 90, np.nan, 95],\n",
    "'Second Score': [30, 45, 56, np.nan],\n",
    "'Third Score':[np.nan, 40, 80, 98]}\n",
    "# creating a dataframe from dictionary\n",
    "df = pd.DataFrame(dict)\n",
    "print(df)\n",
    "#print(df.fillna(0))\n",
    "#filling the NaN values by interpolation #limit_direction='both'\n",
    "#print(df.interpolate(limit_direction='both'))\n",
    "#replacing the nan values with -1\n",
    "#print(df.replace(np.nan,-1))\n",
    "#dropping the rows containing null values\n",
    "print(df.dropna())"
   ]
  },
  {
   "cell_type": "markdown",
   "metadata": {},
   "source": [
    "Data Frame Attributes and Methods"
   ]
  },
  {
   "cell_type": "code",
   "execution_count": null,
   "metadata": {},
   "outputs": [],
   "source": [
    "import pandas as pd\n",
    "# creating a 2D dictionary\n",
    "dict = {\"Student\": [\"Arnav\", \"Neha\",\"Priya\", \"Rahul\",\"Vikki\"],\n",
    "\t\t\"Marks\": [85, 92, 78, 83,90],\"Sports\": [\"Cricket\", \"Volleyball\", \n",
    "\t\t\t\t\"Hockey\", \"Badminton\",\"Tennis\"]}\n",
    "# creating a DataFrame\n",
    "df = pd.DataFrame(dict)\n",
    "# printing this DataFrame on the  output screen\n",
    "display(df) #Specific to IPython :\n",
    "#to use display in a .py file, add the code: from IPython.display import display\n",
    "\n",
    "# Various Attributes\n",
    "print('Transpose:\\n',df.T) \n",
    "print('Axes:',df.axes)\n",
    "print('Data Types:',df.dtypes)\n",
    "print('Index:',df.index)\n",
    "print('Empty: ',df.empty)\n",
    "print('No. of dimensions: ',df.ndim)\n",
    "print('Shape: ',df.shape)\n",
    "print('Size: ',df.size)\n",
    "print('Values:(NumPy array form) ',df.values)\n",
    "print('Top 3 rows:\\n',df.head(3))\n",
    "print('Bottom 2 rows:\\n',df.tail(2))"
   ]
  },
  {
   "cell_type": "markdown",
   "metadata": {},
   "source": [
    "CSV Write and Read"
   ]
  },
  {
   "cell_type": "code",
   "execution_count": null,
   "metadata": {},
   "outputs": [],
   "source": [
    "import pandas as pd\n",
    "# dictionary of lists\n",
    "dict = {'name':[\"Aparna\", \"Pankaj\", \"Shabeer\", \"Geeku\"],\n",
    "'degree': [\"MBA\", \"BCA\", \"M.Tech\", \"MBA\"], 'score':[90, 40, 80, 98]}\n",
    "# creating a dataframe from a dictionary\n",
    "df = pd.DataFrame(dict,)\n",
    "df.set_index('name',inplace=True)\n",
    "print(df)\n",
    "df.to_csv('studdata.csv')\n",
    "readframe = pd.read_csv('studdata.csv')\n",
    "display(readframe)\n",
    "print(readframe)"
   ]
  },
  {
   "cell_type": "markdown",
   "metadata": {},
   "source": [
    "Pandas - Descriptive Statistics (Run the following cells sequentially)"
   ]
  },
  {
   "cell_type": "markdown",
   "metadata": {},
   "source": [
    "Read and print a csv file"
   ]
  },
  {
   "cell_type": "code",
   "execution_count": null,
   "metadata": {},
   "outputs": [],
   "source": [
    "import pandas as pd\n",
    "#,index_col='Rollno'\n",
    "df=pd.read_csv('student.csv')\n",
    "print(\"data frame Student\")\n",
    "print(df)"
   ]
  },
  {
   "cell_type": "markdown",
   "metadata": {},
   "source": [
    "Statistical info:"
   ]
  },
  {
   "cell_type": "code",
   "execution_count": null,
   "metadata": {},
   "outputs": [],
   "source": [
    "print(\"statistical info of numerical column\")\n",
    "print(df.describe())"
   ]
  },
  {
   "cell_type": "markdown",
   "metadata": {},
   "source": [
    "Print the list of colunmn names"
   ]
  },
  {
   "cell_type": "code",
   "execution_count": null,
   "metadata": {},
   "outputs": [],
   "source": [
    "print(\"columns\")\n",
    "print(df.columns)"
   ]
  },
  {
   "cell_type": "markdown",
   "metadata": {},
   "source": [
    "Print total size of data frame"
   ]
  },
  {
   "cell_type": "code",
   "execution_count": null,
   "metadata": {},
   "outputs": [],
   "source": [
    "print(\"size\")\n",
    "print(df.size)"
   ]
  },
  {
   "cell_type": "markdown",
   "metadata": {},
   "source": [
    "Print the data types of each column"
   ]
  },
  {
   "cell_type": "code",
   "execution_count": null,
   "metadata": {},
   "outputs": [],
   "source": [
    "print(\"data types\")\n",
    "print(df.dtypes)"
   ]
  },
  {
   "cell_type": "markdown",
   "metadata": {},
   "source": [
    "Print number of rows and columns"
   ]
  },
  {
   "cell_type": "code",
   "execution_count": null,
   "metadata": {},
   "outputs": [],
   "source": [
    "print(\"shapes\")\n",
    "print(df.shape)"
   ]
  },
  {
   "cell_type": "markdown",
   "metadata": {},
   "source": [
    "Print the index list and its length"
   ]
  },
  {
   "cell_type": "code",
   "execution_count": null,
   "metadata": {},
   "outputs": [],
   "source": [
    "print(\"index and length of index\")\n",
    "print(df.index,len(df.index))"
   ]
  },
  {
   "cell_type": "markdown",
   "metadata": {},
   "source": [
    "Demo - Various statistical functions on a numeric column"
   ]
  },
  {
   "cell_type": "code",
   "execution_count": null,
   "metadata": {},
   "outputs": [],
   "source": [
    "print(\"statistical functions\")\n",
    "print(\"sum=\",df['Mark'].sum())\n",
    "print(\"mean=\",df['Mark'].mean())\n",
    "print(\"max=\",df['Mark'].max())\n",
    "print(\"min=\",df['Mark'].min())\n",
    "print(\"var=\",df['Mark'].var())\n",
    "print(\"standard deviation of mark=\",df['Mark'].std())\n",
    "print(df.std(numeric_only=True)) #prints SD of all numeric columns"
   ]
  },
  {
   "cell_type": "markdown",
   "metadata": {},
   "source": [
    "Various querying and selection of data"
   ]
  },
  {
   "cell_type": "code",
   "execution_count": null,
   "metadata": {},
   "outputs": [],
   "source": [
    "print(\"top 2 rows\")\n",
    "print(df.head(2))"
   ]
  },
  {
   "cell_type": "code",
   "execution_count": null,
   "metadata": {},
   "outputs": [],
   "source": [
    "print(\"last 2 rows\")\n",
    "print(df.tail(2))"
   ]
  },
  {
   "cell_type": "code",
   "execution_count": null,
   "metadata": {},
   "outputs": [],
   "source": [
    "print(\"data from rows 0,1,2\")\n",
    "print(df[0:3])\n",
    "# or\n",
    "print(df.iloc[0:3])"
   ]
  },
  {
   "cell_type": "code",
   "execution_count": null,
   "metadata": {},
   "outputs": [],
   "source": [
    "print(\"mark column values\")\n",
    "print(df['Mark'])"
   ]
  },
  {
   "cell_type": "code",
   "execution_count": null,
   "metadata": {},
   "outputs": [],
   "source": [
    "print(\"rows where mark >40\")\n",
    "print(df[df['Mark']>40])\n",
    "print(\"rows 0,1,2 columns 0,2\")\n",
    "print(df.iloc[0:3,[0,2]])\n",
    "\n"
   ]
  },
  {
   "cell_type": "code",
   "execution_count": null,
   "metadata": {},
   "outputs": [],
   "source": [
    "print(\"sorting in the descending order of marks\")\n",
    "print(df.sort_values(by='Mark',ascending=False))"
   ]
  },
  {
   "cell_type": "code",
   "execution_count": null,
   "metadata": {},
   "outputs": [],
   "source": [
    "print(\"use agg function to compute all the values\")\n",
    "print(df['Mark'].agg(['sum','min','max','mean','std','var']))"
   ]
  },
  {
   "cell_type": "code",
   "execution_count": null,
   "metadata": {},
   "outputs": [],
   "source": [
    "print(\"median of marks\")\n",
    "print(\"Median\",df.sort_values(by='Mark',ascending=False)['Mark'].median())\n",
    "print(\"mode of marks\")\n",
    "print(\"Mode\",df.sort_values(by='Mark',ascending=False)['Mark'].mode())\n",
    "print(\"count of marks\")\n",
    "print(df['Mark'].value_counts())"
   ]
  },
  {
   "cell_type": "code",
   "execution_count": null,
   "metadata": {},
   "outputs": [],
   "source": [
    "print(\"grouping data based on column value\")\n",
    "print(df.groupby('Mark')['Mark'].mean())"
   ]
  },
  {
   "cell_type": "code",
   "execution_count": null,
   "metadata": {},
   "outputs": [],
   "source": [
    "print(\"plotting the histogram\")\n",
    "import matplotlib.pyplot as plt\n",
    "\n",
    "plt.hist(df['Mark'])\n",
    "plt.show()\n",
    "print(\"plotting the scatter plot\")\n",
    "plt.scatter(df['Name'],df['Mark'])\n",
    "plt.show()\n",
    "print(\"plotting the pie chart\")\n",
    "plt.pie(df['Mark'],autopct='%1.2f%%')\n",
    "plt.show()"
   ]
  },
  {
   "cell_type": "markdown",
   "metadata": {},
   "source": [
    "More python functions Demo - Run All the cells sequentially from here onwards"
   ]
  },
  {
   "cell_type": "code",
   "execution_count": null,
   "metadata": {},
   "outputs": [],
   "source": [
    "import pandas as pd\n",
    "# dictionary of lists\n",
    "dict = {'Name':[\"Arpitha\", \"Rajumar\", \"Alex\", \"Reyhan\",\"Aneesh\"],\n",
    "'Degree': [\"B.Tech\", \"B.Arch\", \"B.Tech\", \"B.Arch\",\"B.Tech\"],\\\n",
    "    'Age':[22,23,23,24,21],'CGPA':[9, 9.5, 8, 9.8,8.9]}\n",
    "# creating a dataframe from a dictionary\n",
    "df = pd.DataFrame(dict)\n",
    "#at takes a row label and a column label\n",
    "print('Result of at[4,\"Name\"] is:',df.at[4,'Name']) \n",
    "#iat takes a row index number and a column index number\n",
    "print('Result of iat[4,3] is:', df.iat[4,3])\n"
   ]
  },
  {
   "cell_type": "markdown",
   "metadata": {},
   "source": [
    "Sort by 1 column name"
   ]
  },
  {
   "cell_type": "code",
   "execution_count": null,
   "metadata": {},
   "outputs": [],
   "source": [
    "print(df.sort_values(by='Name'))"
   ]
  },
  {
   "cell_type": "markdown",
   "metadata": {},
   "source": [
    "Sort by 2 columns"
   ]
  },
  {
   "cell_type": "code",
   "execution_count": null,
   "metadata": {},
   "outputs": [],
   "source": [
    "print(df.sort_values(by=['Age','Name']))"
   ]
  },
  {
   "cell_type": "markdown",
   "metadata": {},
   "source": [
    "Descending Order"
   ]
  },
  {
   "cell_type": "code",
   "execution_count": null,
   "metadata": {},
   "outputs": [],
   "source": [
    "print(df.sort_values(by='Name',ascending=False))"
   ]
  },
  {
   "cell_type": "markdown",
   "metadata": {},
   "source": [
    "Grouping : Finds the mean (average) of CGPA of B.Tech and B.Arch students seperately"
   ]
  },
  {
   "cell_type": "code",
   "execution_count": null,
   "metadata": {},
   "outputs": [],
   "source": [
    "print(df.groupby('Degree')['CGPA'].agg('mean'))\n",
    "#or\n",
    "print(df.groupby('Degree')['CGPA'].mean())"
   ]
  },
  {
   "cell_type": "markdown",
   "metadata": {},
   "source": [
    "idxmax() Find the student with highest CGPA"
   ]
  },
  {
   "cell_type": "code",
   "execution_count": null,
   "metadata": {},
   "outputs": [],
   "source": [
    "print(df.iloc[df['CGPA'].idxmax()])"
   ]
  },
  {
   "cell_type": "markdown",
   "metadata": {},
   "source": [
    "Find out the number of unique values and values of the column Branch"
   ]
  },
  {
   "cell_type": "code",
   "execution_count": null,
   "metadata": {},
   "outputs": [],
   "source": [
    "print('The number of unique values for Degree is:', df['Degree'].nunique())\n",
    "print('The unique values for degree are:', df['Degree'].unique())"
   ]
  },
  {
   "cell_type": "markdown",
   "metadata": {},
   "source": [
    "Find the rank of each student based on CGPA and add it as a new column in the data set"
   ]
  },
  {
   "cell_type": "code",
   "execution_count": null,
   "metadata": {},
   "outputs": [],
   "source": [
    "df['Rank'] = df['CGPA'].rank(ascending=False)\n",
    "print(df) "
   ]
  },
  {
   "cell_type": "markdown",
   "metadata": {},
   "source": [
    "Count the frequrncy of values"
   ]
  },
  {
   "cell_type": "code",
   "execution_count": null,
   "metadata": {},
   "outputs": [],
   "source": [
    "print(df.value_counts(\"Degree\"))"
   ]
  },
  {
   "cell_type": "markdown",
   "metadata": {},
   "source": [
    "Condition based queries"
   ]
  },
  {
   "cell_type": "code",
   "execution_count": null,
   "metadata": {},
   "outputs": [],
   "source": [
    "#List all with CGPA>9\n",
    "print(df.query('CGPA>9'))\n",
    "print('======================================')\n",
    "#List all B.Tech students with CGPA>8\n",
    "print(df.query('Degree==\"B.Tech\" and CGPA>8'))"
   ]
  },
  {
   "cell_type": "markdown",
   "metadata": {},
   "source": [
    "Using where"
   ]
  },
  {
   "cell_type": "code",
   "execution_count": null,
   "metadata": {},
   "outputs": [],
   "source": [
    "print(df.where(df['CGPA']>9))"
   ]
  },
  {
   "cell_type": "markdown",
   "metadata": {},
   "source": []
  }
 ],
 "metadata": {
  "kernelspec": {
   "display_name": "Python 3",
   "language": "python",
   "name": "python3"
  },
  "language_info": {
   "codemirror_mode": {
    "name": "ipython",
    "version": 3
   },
   "file_extension": ".py",
   "mimetype": "text/x-python",
   "name": "python",
   "nbconvert_exporter": "python",
   "pygments_lexer": "ipython3",
   "version": "3.11.2"
  }
 },
 "nbformat": 4,
 "nbformat_minor": 2
}
